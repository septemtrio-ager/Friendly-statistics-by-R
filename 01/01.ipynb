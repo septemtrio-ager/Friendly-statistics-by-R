{
 "cells": [
  {
   "cell_type": "markdown",
   "metadata": {},
   "source": [
    "# 第1章 Rと統計学\n",
    "\n",
    "そもそもRとは何か。いろいろな統計送付とがある中でRを選ぶ理由とは。他の統計ソフトと比較してRにはどのような特徴があるのか。"
   ]
  },
  {
   "cell_type": "markdown",
   "metadata": {},
   "source": [
    "## Rをもっと触ってみよう\n",
    "\n",
    "Rを用いて簡単な統計処理を行ってみる。作業ディレクトリにある**giants_data.csv**を読み込んで、平均値や中央値を求めてみることにする。\n",
    "ここでは読売ジャイアンツの選手10名に関する身長[cm]と推定年俸[万円]のデータが保存されている。"
   ]
  },
  {
   "cell_type": "markdown",
   "metadata": {},
   "source": [
    "まずはデータを読み込む。**read.table()**はヘッダーがある場合**header=T**を指定し、カンマ区切りのデータになっている場合**sep=\",\"**を指定することでデータを読み込むことができる。"
   ]
  },
  {
   "cell_type": "code",
   "execution_count": 1,
   "metadata": {
    "collapsed": false
   },
   "outputs": [
    {
     "data": {
      "text/html": [
       "<table>\n",
       "<thead><tr><th></th><th scope=col>height</th><th scope=col>salary</th></tr></thead>\n",
       "<tbody>\n",
       "\t<tr><th scope=row>1</th><td>  173</td><td>17000</td></tr>\n",
       "\t<tr><th scope=row>2</th><td>  178</td><td>14000</td></tr>\n",
       "\t<tr><th scope=row>3</th><td> 180</td><td>9000</td></tr>\n",
       "\t<tr><th scope=row>4</th><td>  183</td><td>50000</td></tr>\n",
       "\t<tr><th scope=row>5</th><td>  182</td><td>30000</td></tr>\n",
       "\t<tr><th scope=row>6</th><td>  174</td><td>12000</td></tr>\n",
       "\t<tr><th scope=row>7</th><td>179</td><td>900</td></tr>\n",
       "\t<tr><th scope=row>8</th><td> 179</td><td>2100</td></tr>\n",
       "\t<tr><th scope=row>9</th><td> 174</td><td>1000</td></tr>\n",
       "\t<tr><th scope=row>10</th><td>  192</td><td>25000</td></tr>\n",
       "</tbody>\n",
       "</table>\n"
      ],
      "text/latex": [
       "\\begin{tabular}{r|ll}\n",
       "  & height & salary\\\\\n",
       "\\hline\n",
       "\t1 &   173 & 17000\\\\\n",
       "\t2 &   178 & 14000\\\\\n",
       "\t3 &  180 & 9000\\\\\n",
       "\t4 &   183 & 50000\\\\\n",
       "\t5 &   182 & 30000\\\\\n",
       "\t6 &   174 & 12000\\\\\n",
       "\t7 & 179 & 900\\\\\n",
       "\t8 &  179 & 2100\\\\\n",
       "\t9 &  174 & 1000\\\\\n",
       "\t10 &   192 & 25000\\\\\n",
       "\\end{tabular}\n"
      ],
      "text/plain": [
       "   height salary\n",
       "1     173  17000\n",
       "2     178  14000\n",
       "3     180   9000\n",
       "4     183  50000\n",
       "5     182  30000\n",
       "6     174  12000\n",
       "7     179    900\n",
       "8     179   2100\n",
       "9     174   1000\n",
       "10    192  25000"
      ]
     },
     "metadata": {},
     "output_type": "display_data"
    }
   ],
   "source": [
    "data <- read.table(\"giants_data.csv\", header=T, sep=\",\")\n",
    "data"
   ]
  },
  {
   "cell_type": "markdown",
   "metadata": {},
   "source": [
    "身長（height）について、ベクトルとして変数に格納してみる。"
   ]
  },
  {
   "cell_type": "code",
   "execution_count": 20,
   "metadata": {
    "collapsed": false
   },
   "outputs": [
    {
     "name": "stdout",
     "output_type": "stream",
     "text": [
      " [1] 173 178 180 183 182 174 179 179 174 192\n"
     ]
    }
   ],
   "source": [
    "height <- c(data$height)\n",
    "print(height)"
   ]
  },
  {
   "cell_type": "markdown",
   "metadata": {},
   "source": [
    "### Rを使った統計"
   ]
  },
  {
   "cell_type": "markdown",
   "metadata": {},
   "source": [
    "**summary()**を使うことで以下のような結果が表示される。"
   ]
  },
  {
   "cell_type": "code",
   "execution_count": 16,
   "metadata": {
    "collapsed": false
   },
   "outputs": [
    {
     "data": {
      "text/plain": [
       "   Min. 1st Qu.  Median    Mean 3rd Qu.    Max. \n",
       "  173.0   175.0   179.0   179.4   181.5   192.0 "
      ]
     },
     "metadata": {},
     "output_type": "display_data"
    }
   ],
   "source": [
    "summary(height)"
   ]
  },
  {
   "cell_type": "markdown",
   "metadata": {},
   "source": [
    "**Min.**は**最小値**、**Median.**は**中央値**、**Mean**は**平均**、**Max.**は**最大値**を表している。また、**1st Qu.**は**第一四分位数**、**3rd Qu.**は**第三四分位数**であり。それぞれ下から数えて25%、75%の順位に当たるデータの値となる。"
   ]
  },
  {
   "cell_type": "markdown",
   "metadata": {},
   "source": [
    "この例では、下から2番目の値と下から3番目の値の平均、下から7番目と下から8番目の値の平均となっていることが分かる。"
   ]
  },
  {
   "cell_type": "markdown",
   "metadata": {},
   "source": [
    "## Rの使い方のコツ\n",
    "\n",
    "### 複数の値をまとめて使う\n",
    "\n",
    "Rでは複数の値を1つのデータとしてまとめて扱うことが可能である。今回は読み込んだ身長と推定年俸の値を行列で表現してみる。"
   ]
  },
  {
   "cell_type": "code",
   "execution_count": 2,
   "metadata": {
    "collapsed": false
   },
   "outputs": [
    {
     "name": "stdout",
     "output_type": "stream",
     "text": [
      "      [,1]  [,2]\n",
      " [1,]  173 17000\n",
      " [2,]  178 14000\n",
      " [3,]  180  9000\n",
      " [4,]  183 50000\n",
      " [5,]  182 30000\n",
      " [6,]  174 12000\n",
      " [7,]  179   900\n",
      " [8,]  179  2100\n",
      " [9,]  174  1000\n",
      "[10,]  192 25000\n"
     ]
    }
   ],
   "source": [
    "giants <- matrix(c(data$height, data$salary),10,2)\n",
    "print(giants)"
   ]
  },
  {
   "cell_type": "markdown",
   "metadata": {},
   "source": [
    "行列で表現するためには、**matrix()**を利用する。c()でデータをまとめたものと、10,2という引数を与え、**10行2列**（縦に10個データを並べ、横に2個データを並べる）となるように指定した。"
   ]
  },
  {
   "cell_type": "markdown",
   "metadata": {},
   "source": [
    "### 関数を作る\n",
    "\n",
    "Rではユーザ自身がオリジナルの関数を作ることが可能である。"
   ]
  },
  {
   "cell_type": "markdown",
   "metadata": {},
   "source": [
    "Rの関数としてvar()があるが、この関数は標本分散ではなく不偏分散を計算する。n個の標本 $x_1, x_2, \\cdots, x_n$があり、その平均値を $\\overline{X}$としたとき、不偏分散は\n",
    "\n",
    "$$\n",
    "    \\hat{\\sigma}^2=\\frac{1}{n-1} \\sum_{i=1}^{n} (x_i-\\overline{X})^2\n",
    "$$\n",
    "\n",
    "である。不偏分散を求めるvar()に対して、標本分散を求める関数（これをvarp()とする）は、\n",
    "\n",
    "$$\n",
    "    s^2 = \\frac{1}{n} \\sum_{i=1}^{n} (x_i - \\overline{X})^2\n",
    "$$\n",
    "であるため、以下のような実装になる。"
   ]
  },
  {
   "cell_type": "code",
   "execution_count": 8,
   "metadata": {
    "collapsed": true
   },
   "outputs": [],
   "source": [
    "varp <- function(x) {\n",
    "    samp_var <- var(x) * (length(x) - 1) / length(x)\n",
    "}"
   ]
  },
  {
   "cell_type": "markdown",
   "metadata": {},
   "source": [
    "データxに対して不偏分散var()と標本分散varp()を用いて計算させた結果は以下のようになる。"
   ]
  },
  {
   "cell_type": "code",
   "execution_count": 9,
   "metadata": {
    "collapsed": false
   },
   "outputs": [
    {
     "name": "stdout",
     "output_type": "stream",
     "text": [
      "[1] 9.7\n",
      "[1] 7.76\n"
     ]
    }
   ],
   "source": [
    "x <- c(10,13,8,15,8)\n",
    "print(var(x))\n",
    "print(varp(x))"
   ]
  }
 ],
 "metadata": {
  "kernelspec": {
   "display_name": "R",
   "language": "R",
   "name": "ir"
  },
  "language_info": {
   "codemirror_mode": "r",
   "file_extension": ".r",
   "mimetype": "text/x-r-source",
   "name": "R",
   "pygments_lexer": "r",
   "version": "3.3.0"
  }
 },
 "nbformat": 4,
 "nbformat_minor": 0
}
